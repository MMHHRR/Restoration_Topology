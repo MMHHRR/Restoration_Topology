{
 "cells": [
  {
   "attachments": {},
   "cell_type": "markdown",
   "id": "adad7c5a",
   "metadata": {},
   "source": [
    "## Basic Intro"
   ]
  },
  {
   "cell_type": "code",
   "execution_count": 3,
   "id": "fd719dc1",
   "metadata": {},
   "outputs": [],
   "source": [
    "import networkx as nx\n",
    "import dgl\n",
    "import torch as th\n",
    "import numpy as np\n",
    "import scipy.sparse as spp"
   ]
  },
  {
   "cell_type": "code",
   "execution_count": 2,
   "id": "16320f06",
   "metadata": {},
   "outputs": [],
   "source": [
    "u = th.tensor([0,0,0,0,0]) #起始节点\n",
    "v = th.tensor([1,2,3,4,5]) #终止节点\n",
    "star = dgl.graph((u,v))\n",
    "# nx.draw(star.to_networkx(), with_labels=True) #可视化\n",
    "# plt.show()"
   ]
  },
  {
   "cell_type": "code",
   "execution_count": 11,
   "id": "f8fef2f3",
   "metadata": {},
   "outputs": [
    {
     "data": {
      "text/plain": [
       "Graph(num_nodes=6, num_edges=5,\n",
       "      ndata_schemes={}\n",
       "      edata_schemes={})"
      ]
     },
     "execution_count": 11,
     "metadata": {},
     "output_type": "execute_result"
    }
   ],
   "source": [
    "star"
   ]
  },
  {
   "cell_type": "code",
   "execution_count": 9,
   "id": "ebd31e8b",
   "metadata": {},
   "outputs": [],
   "source": [
    "g = dgl.graph((u, v), num_nodes=8)"
   ]
  },
  {
   "cell_type": "code",
   "execution_count": 14,
   "id": "c9f4cf1b",
   "metadata": {},
   "outputs": [
    {
     "data": {
      "text/plain": [
       "Graph(num_nodes=6, num_edges=4,\n",
       "      ndata_schemes={'x': Scheme(shape=(3,), dtype=torch.float32), 'y': Scheme(shape=(5,), dtype=torch.float32)}\n",
       "      edata_schemes={'x': Scheme(shape=(), dtype=torch.int32)})"
      ]
     },
     "execution_count": 14,
     "metadata": {},
     "output_type": "execute_result"
    }
   ],
   "source": [
    "import dgl\n",
    "import torch as th\n",
    "g = dgl.graph(([0, 0, 1, 5], [1, 2, 2, 0])) # 6个节点，4条边\n",
    "g\n",
    "g.ndata['x'] = th.ones(g.num_nodes(), 3)               # 长度为3的节点特征\n",
    "g.edata['x'] = th.ones(g.num_edges(), dtype=th.int32)  # 标量整型特征\n",
    "g\n",
    "# 不同名称的特征可以具有不同形状\n",
    "g.ndata['y'] = th.randn(g.num_nodes(), 5)\n",
    "g.ndata['x'][1]                  # 获取节点1的特征\n",
    "g.edata['x'][th.tensor([0, 3])]  # 获取边0和3的特征\n",
    "\n",
    "g\n"
   ]
  },
  {
   "cell_type": "code",
   "execution_count": 18,
   "id": "e4538657",
   "metadata": {},
   "outputs": [
    {
     "name": "stdout",
     "output_type": "stream",
     "text": [
      "tensor([[1., 1., 1.],\n",
      "        [1., 1., 1.],\n",
      "        [1., 1., 1.],\n",
      "        [1., 1., 1.],\n",
      "        [1., 1., 1.],\n",
      "        [1., 1., 1.]])\n",
      "tensor([[-1.1459,  0.8054, -0.7788, -0.3374, -0.7242],\n",
      "        [-0.1109,  0.6838,  1.1884, -0.7687, -0.8536],\n",
      "        [ 0.8129,  0.8831, -0.1214, -1.0942, -0.8556],\n",
      "        [ 1.5978,  0.5363, -0.1955, -0.4647,  0.1012],\n",
      "        [ 0.5130,  0.5020,  0.2081,  0.5550,  0.2823],\n",
      "        [ 0.7166,  1.6365,  0.1661,  0.2622,  1.2333]])\n",
      "tensor([1, 1, 1, 1], dtype=torch.int32)\n",
      "<bound method DGLGraph.num_nodes of Graph(num_nodes=6, num_edges=4,\n",
      "      ndata_schemes={'x': Scheme(shape=(3,), dtype=torch.float32), 'y': Scheme(shape=(5,), dtype=torch.float32)}\n",
      "      edata_schemes={'x': Scheme(shape=(), dtype=torch.int32)})>\n",
      "<bound method DGLGraph.num_edges of Graph(num_nodes=6, num_edges=4,\n",
      "      ndata_schemes={'x': Scheme(shape=(3,), dtype=torch.float32), 'y': Scheme(shape=(5,), dtype=torch.float32)}\n",
      "      edata_schemes={'x': Scheme(shape=(), dtype=torch.int32)})>\n"
     ]
    }
   ],
   "source": [
    "# 获取节点特征\n",
    "node_x = g.ndata['x']  # shape: (6, 3)\n",
    "node_y = g.ndata['y']  # shape: (6, 5)\n",
    "\n",
    "# 获取边特征\n",
    "edge_x = g.edata['x']  # shape: (4,)\n",
    "\n",
    "num_nodes = g.num_nodes  # 6\n",
    "num_edges = g.num_edges  # 4\n",
    "\n",
    "print(node_x)\n",
    "print(node_y)\n",
    "print(edge_x)\n",
    "print(num_nodes)\n",
    "print(num_edges)"
   ]
  },
  {
   "attachments": {},
   "cell_type": "markdown",
   "id": "765f92f4",
   "metadata": {},
   "source": [
    "## 1.构建图"
   ]
  },
  {
   "cell_type": "code",
   "execution_count": 1,
   "id": "7cde80bf",
   "metadata": {},
   "outputs": [
    {
     "name": "stdout",
     "output_type": "stream",
     "text": [
      "    Id     Club  Age\n",
      "0    0   Mr. Hi   45\n",
      "1    1   Mr. Hi   33\n",
      "2    2   Mr. Hi   36\n",
      "3    3   Mr. Hi   31\n",
      "4    4   Mr. Hi   41\n",
      "5    5   Mr. Hi   42\n",
      "6    6   Mr. Hi   48\n",
      "7    7   Mr. Hi   41\n",
      "8    8   Mr. Hi   30\n",
      "9    9  Officer   35\n",
      "10  10   Mr. Hi   38\n",
      "11  11   Mr. Hi   44\n",
      "12  12   Mr. Hi   37\n",
      "13  13   Mr. Hi   39\n",
      "14  14  Officer   36\n",
      "15  15  Officer   38\n",
      "16  16   Mr. Hi   47\n",
      "17  17   Mr. Hi   45\n",
      "18  18  Officer   41\n",
      "19  19   Mr. Hi   31\n",
      "20  20  Officer   31\n",
      "21  21   Mr. Hi   44\n",
      "22  22  Officer   42\n",
      "23  23  Officer   32\n",
      "24  24  Officer   30\n",
      "25  25  Officer   50\n",
      "26  26  Officer   30\n",
      "27  27  Officer   43\n",
      "28  28  Officer   48\n",
      "29  29  Officer   40\n",
      "30  30  Officer   39\n",
      "31  31  Officer   45\n",
      "32  32  Officer   47\n",
      "33  33  Officer   33\n"
     ]
    }
   ],
   "source": [
    "import pandas as pd\n",
    "\n",
    "nodes_data = pd.read_csv('E:/Dataset/club/nodes.csv')\n",
    "print(nodes_data)"
   ]
  },
  {
   "cell_type": "code",
   "execution_count": 2,
   "id": "3c573cc2",
   "metadata": {},
   "outputs": [
    {
     "name": "stdout",
     "output_type": "stream",
     "text": [
      "     Src  Dst    Weight\n",
      "0      0    1  0.318451\n",
      "1      0    2  0.551215\n",
      "2      0    3  0.227416\n",
      "3      0    4  0.266919\n",
      "4      0    5  0.475449\n",
      "..   ...  ...       ...\n",
      "151   33   28  0.266479\n",
      "152   33   29  0.279901\n",
      "153   33   30  0.652154\n",
      "154   33   31  0.828536\n",
      "155   33   32  0.842656\n",
      "\n",
      "[156 rows x 3 columns]\n"
     ]
    }
   ],
   "source": [
    "edge_data = pd.read_csv('E:/Dataset/club/edges.csv')\n",
    "print(edge_data)"
   ]
  },
  {
   "cell_type": "code",
   "execution_count": 4,
   "id": "8c912e23",
   "metadata": {},
   "outputs": [
    {
     "name": "stdout",
     "output_type": "stream",
     "text": [
      "Graph(num_nodes=34, num_edges=156,\n",
      "      ndata_schemes={}\n",
      "      edata_schemes={})\n"
     ]
    }
   ],
   "source": [
    "import dgl\n",
    "\n",
    "src = edge_data['Src'].to_numpy()\n",
    "dst = edge_data['Dst'].to_numpy()\n",
    "\n",
    "g = dgl.graph((src, dst))\n",
    "print(g)"
   ]
  },
  {
   "cell_type": "code",
   "execution_count": 5,
   "id": "64a16ac8",
   "metadata": {},
   "outputs": [
    {
     "name": "stdout",
     "output_type": "stream",
     "text": [
      "#Nodes 34\n",
      "#Edges 156\n"
     ]
    }
   ],
   "source": [
    "print('#Nodes', g.number_of_nodes())\n",
    "print('#Edges', g.number_of_edges())"
   ]
  },
  {
   "cell_type": "code",
   "execution_count": 6,
   "id": "49521e69",
   "metadata": {},
   "outputs": [
    {
     "data": {
      "text/plain": [
       "16"
      ]
     },
     "execution_count": 6,
     "metadata": {},
     "output_type": "execute_result"
    }
   ],
   "source": [
    "g.in_degrees(0)"
   ]
  },
  {
   "cell_type": "code",
   "execution_count": 7,
   "id": "4f221cb6",
   "metadata": {},
   "outputs": [
    {
     "data": {
      "text/plain": [
       "tensor([ 1,  2,  3,  4,  5,  6,  7,  8, 10, 11, 12, 13, 17, 19, 21, 31])"
      ]
     },
     "execution_count": 7,
     "metadata": {},
     "output_type": "execute_result"
    }
   ],
   "source": [
    "g.successors(0)"
   ]
  },
  {
   "attachments": {},
   "cell_type": "markdown",
   "id": "7038865a",
   "metadata": {},
   "source": [
    "## 2.加入节点和边特征"
   ]
  },
  {
   "attachments": {},
   "cell_type": "markdown",
   "id": "7360ecf9",
   "metadata": {},
   "source": [
    "### 2.1添加节点特征"
   ]
  },
  {
   "cell_type": "code",
   "execution_count": 8,
   "id": "8745e72c",
   "metadata": {},
   "outputs": [
    {
     "name": "stdout",
     "output_type": "stream",
     "text": [
      "tensor([0.4500, 0.3300, 0.3600, 0.3100, 0.4100, 0.4200, 0.4800, 0.4100, 0.3000,\n",
      "        0.3500, 0.3800, 0.4400, 0.3700, 0.3900, 0.3600, 0.3800, 0.4700, 0.4500,\n",
      "        0.4100, 0.3100, 0.3100, 0.4400, 0.4200, 0.3200, 0.3000, 0.5000, 0.3000,\n",
      "        0.4300, 0.4800, 0.4000, 0.3900, 0.4500, 0.4700, 0.3300])\n"
     ]
    }
   ],
   "source": [
    "import torch\n",
    "import torch.nn.functional as F\n",
    "\n",
    "age = torch.tensor(nodes_data['Age'].to_numpy()).float() / 100\n",
    "print(age)"
   ]
  },
  {
   "cell_type": "code",
   "execution_count": 9,
   "id": "b3ec3412",
   "metadata": {},
   "outputs": [
    {
     "data": {
      "text/plain": [
       "tensor([0.4500, 0.3800])"
      ]
     },
     "execution_count": 9,
     "metadata": {},
     "output_type": "execute_result"
    }
   ],
   "source": [
    "# Get the features of node 0 and 10\n",
    "age[[0, 10]]"
   ]
  },
  {
   "cell_type": "code",
   "execution_count": 10,
   "id": "13229959",
   "metadata": {},
   "outputs": [
    {
     "name": "stdout",
     "output_type": "stream",
     "text": [
      "Graph(num_nodes=34, num_edges=156,\n",
      "      ndata_schemes={'age': Scheme(shape=(), dtype=torch.float32)}\n",
      "      edata_schemes={})\n"
     ]
    }
   ],
   "source": [
    "# Feed the features to graph\n",
    "g.ndata['age'] = age\n",
    "print(g)"
   ]
  },
  {
   "cell_type": "code",
   "execution_count": 11,
   "id": "4ddec576",
   "metadata": {},
   "outputs": [
    {
     "name": "stdout",
     "output_type": "stream",
     "text": [
      "Graph(num_nodes=34, num_edges=156,\n",
      "      ndata_schemes={'age': Scheme(shape=(), dtype=torch.float32), 'club': Scheme(shape=(), dtype=torch.int64), 'club_onehot': Scheme(shape=(2,), dtype=torch.int64)}\n",
      "      edata_schemes={})\n"
     ]
    }
   ],
   "source": [
    "# 将club的俱乐部转化成onehot编码\n",
    "club = nodes_data['Club'].to_list()\n",
    "# Convert to categorical integer values with 0 for 'Mr. Hi', 1 for 'Officer'.\n",
    "club = torch.tensor([c == 'Officer' for c in club]).long()\n",
    "# We can also convert it to one-hot encoding.\n",
    "club_onehot = F.one_hot(club)\n",
    "# print(club_onehot)\n",
    "\n",
    "# Use `g.ndata` like a normal dictionary\n",
    "g.ndata.update({'club' : club, 'club_onehot' : club_onehot})\n",
    "# Remove some features using del\n",
    "# del g.ndata['age']\n",
    "\n",
    "print(g)"
   ]
  },
  {
   "cell_type": "code",
   "execution_count": 12,
   "id": "c66e08c9",
   "metadata": {},
   "outputs": [],
   "source": [
    "del g.ndata['age']"
   ]
  },
  {
   "attachments": {},
   "cell_type": "markdown",
   "id": "0589a107",
   "metadata": {},
   "source": [
    "### 2.2添加边特征"
   ]
  },
  {
   "cell_type": "code",
   "execution_count": 13,
   "id": "41ed204b",
   "metadata": {},
   "outputs": [
    {
     "name": "stdout",
     "output_type": "stream",
     "text": [
      "Graph(num_nodes=34, num_edges=156,\n",
      "      ndata_schemes={'club': Scheme(shape=(), dtype=torch.int64), 'club_onehot': Scheme(shape=(2,), dtype=torch.int64)}\n",
      "      edata_schemes={'weight': Scheme(shape=(), dtype=torch.float64)})\n"
     ]
    }
   ],
   "source": [
    "# Get edge features from the DataFrame and feed it to graph.\n",
    "edge_weight = torch.tensor(edge_data['Weight'].to_numpy())\n",
    "# Similarly, use `g.edata` for getting/setting edge features.\n",
    "g.edata['weight'] = edge_weight\n",
    "print(g)"
   ]
  },
  {
   "attachments": {},
   "cell_type": "markdown",
   "id": "325463a3",
   "metadata": {},
   "source": [
    "## 3.半监督GNN分类"
   ]
  },
  {
   "cell_type": "code",
   "execution_count": 15,
   "id": "bfc1a338",
   "metadata": {},
   "outputs": [],
   "source": [
    "import dgl\n",
    "import torch\n",
    "import torch.nn as nn\n",
    "import torch.nn.functional as F\n",
    "import itertools"
   ]
  },
  {
   "attachments": {},
   "cell_type": "markdown",
   "id": "c1f35da0",
   "metadata": {},
   "source": [
    "### 3.1节点嵌入（基于邻居的节点嵌入方法）"
   ]
  },
  {
   "cell_type": "code",
   "execution_count": 52,
   "id": "28cfee7a",
   "metadata": {},
   "outputs": [
    {
     "name": "stdout",
     "output_type": "stream",
     "text": [
      "Parameter containing:\n",
      "tensor([[ 0.1809,  0.1854,  0.0149,  0.0522,  0.0196],\n",
      "        [-0.3102,  0.1887, -0.2572, -0.3316, -0.3519],\n",
      "        [-0.3598, -0.2338, -0.2882, -0.0995, -0.0575],\n",
      "        [ 0.3891,  0.3784, -0.2948, -0.2642,  0.1774],\n",
      "        [ 0.2972, -0.3788, -0.2588,  0.0405, -0.2454],\n",
      "        [-0.1879,  0.2291, -0.0814,  0.3284, -0.1613],\n",
      "        [-0.0844, -0.1304, -0.2239, -0.1427,  0.0420],\n",
      "        [ 0.3892,  0.1105,  0.2141, -0.1370, -0.0561],\n",
      "        [ 0.1822, -0.0302, -0.3800,  0.1019, -0.1763],\n",
      "        [ 0.3124, -0.3818, -0.3869, -0.1278,  0.1504],\n",
      "        [-0.2903,  0.0663, -0.2690, -0.3306, -0.2572],\n",
      "        [-0.3139,  0.3298,  0.1569, -0.3163,  0.1369],\n",
      "        [-0.3065,  0.0253,  0.0361, -0.2870,  0.2179],\n",
      "        [-0.0649, -0.2611,  0.2375, -0.3219, -0.1317],\n",
      "        [ 0.2251,  0.1907,  0.1873, -0.1691,  0.0284],\n",
      "        [-0.2929, -0.2537, -0.3147, -0.2802, -0.2851],\n",
      "        [-0.3298,  0.3405, -0.3644, -0.0832, -0.1123],\n",
      "        [-0.3908,  0.3477, -0.1810, -0.2103, -0.1969],\n",
      "        [-0.2761,  0.3464,  0.1237, -0.3243, -0.1915],\n",
      "        [ 0.0825,  0.0335, -0.1237,  0.2568, -0.3271],\n",
      "        [ 0.1876, -0.0502, -0.2802,  0.2598,  0.3739],\n",
      "        [ 0.1819, -0.3815,  0.2725, -0.0687,  0.3277],\n",
      "        [ 0.1108,  0.1298, -0.3620, -0.0136, -0.0700],\n",
      "        [-0.2651,  0.0728,  0.0503,  0.2434,  0.3797],\n",
      "        [-0.2660,  0.1468,  0.0185, -0.1269,  0.3888],\n",
      "        [-0.2499, -0.0292, -0.2275, -0.0613,  0.1861],\n",
      "        [-0.1818, -0.0539, -0.1387,  0.3060, -0.0545],\n",
      "        [-0.1569,  0.1857, -0.2505,  0.1704, -0.0500],\n",
      "        [-0.2751, -0.3280,  0.1599,  0.0926,  0.3460],\n",
      "        [ 0.3175,  0.2382,  0.0277,  0.2072, -0.0939],\n",
      "        [ 0.0996, -0.0256,  0.0237,  0.2631, -0.3472],\n",
      "        [-0.0537,  0.0589,  0.1738, -0.2178, -0.2032],\n",
      "        [-0.3013, -0.0888, -0.3159,  0.1201, -0.3905],\n",
      "        [-0.3849, -0.2144,  0.1825, -0.1533,  0.1270]], requires_grad=True)\n",
      "Graph(num_nodes=34, num_edges=156,\n",
      "      ndata_schemes={'club': Scheme(shape=(), dtype=torch.int64), 'club_onehot': Scheme(shape=(2,), dtype=torch.int64)}\n",
      "      edata_schemes={'weight': Scheme(shape=(), dtype=torch.float64)})\n"
     ]
    }
   ],
   "source": [
    "#它使用了nn.Embedding模块，将每个节点嵌入到一个大小为5的向量空间中。\n",
    "#在基于邻居的节点嵌入方法中，每个节点嵌入向量是由其邻居节点的嵌入向量聚合而成的。\n",
    "\n",
    "node_embed = nn.Embedding(g.number_of_nodes(), 5)  # Every node has an embedding of size 5.\n",
    "inputs = node_embed.weight                         # Use the embedding weight as the node features.\n",
    "nn.init.xavier_uniform_(inputs)\n",
    "print(inputs)\n",
    "print(g)"
   ]
  },
  {
   "cell_type": "code",
   "execution_count": 54,
   "id": "988829de",
   "metadata": {},
   "outputs": [
    {
     "name": "stdout",
     "output_type": "stream",
     "text": [
      "Labels tensor([0, 1])\n"
     ]
    }
   ],
   "source": [
    "# 对0和33这两个进行标注（意味着，仅仅通过这两个标签推测全图的信息）\n",
    "\n",
    "labels = g.ndata['club']\n",
    "labeled_nodes = [0, 33]\n",
    "print('Labels', labels[labeled_nodes])"
   ]
  },
  {
   "attachments": {},
   "cell_type": "markdown",
   "id": "b8515944",
   "metadata": {},
   "source": [
    "### 3.2定义GraphSAGE模型"
   ]
  },
  {
   "cell_type": "code",
   "execution_count": 58,
   "id": "90019a78",
   "metadata": {},
   "outputs": [
    {
     "data": {
      "text/plain": [
       "GraphSAGE(\n",
       "  (conv1): SAGEConv(\n",
       "    (feat_drop): Dropout(p=0.0, inplace=False)\n",
       "    (fc_neigh): Linear(in_features=5, out_features=16, bias=False)\n",
       "    (fc_self): Linear(in_features=5, out_features=16, bias=True)\n",
       "  )\n",
       "  (conv2): SAGEConv(\n",
       "    (feat_drop): Dropout(p=0.0, inplace=False)\n",
       "    (fc_neigh): Linear(in_features=16, out_features=2, bias=False)\n",
       "    (fc_self): Linear(in_features=16, out_features=2, bias=True)\n",
       "  )\n",
       ")"
      ]
     },
     "execution_count": 58,
     "metadata": {},
     "output_type": "execute_result"
    }
   ],
   "source": [
    "from dgl.nn import SAGEConv\n",
    "\n",
    "# build a two-layer GraphSAGE model\n",
    "class GraphSAGE(nn.Module):\n",
    "    def __init__(self, in_feats, h_feats, num_classes):      #in_feats表示输入特征的大小\n",
    "        super(GraphSAGE, self).__init__()                    #h_feats表示隐藏层特征的大小\n",
    "        self.conv1 = SAGEConv(in_feats, h_feats, 'mean')     #使用'mean'聚合函数来汇集邻居节点信息\n",
    "        self.conv2 = SAGEConv(h_feats, num_classes, 'mean')  #num_classes表示输出层的大小\n",
    "    \n",
    "    def forward(self, g, in_feat):\n",
    "        h = self.conv1(g, in_feat)\n",
    "        h = F.relu(h)\n",
    "        h = self.conv2(g, h)\n",
    "        return h\n",
    "    \n",
    "# Create the model with given dimensions \n",
    "# input layer dimension: 5, node embeddings\n",
    "# hidden layer dimension: 16\n",
    "# output layer dimension: 2, the two classes, 0 and 1\n",
    "net = GraphSAGE(5, 16, 2)\n",
    "net"
   ]
  },
  {
   "cell_type": "code",
   "execution_count": 57,
   "id": "36c8002a",
   "metadata": {},
   "outputs": [],
   "source": [
    "# set up loss and optimizer\n",
    "# in this case, loss will in training loop\n",
    "optimizer = torch.optim.Adam(itertools.chain(net.parameters(), node_embed.parameters()), lr=0.01)"
   ]
  },
  {
   "cell_type": "code",
   "execution_count": 59,
   "id": "64e3a78b",
   "metadata": {},
   "outputs": [
    {
     "name": "stderr",
     "output_type": "stream",
     "text": [
      "d:\\anaconda3\\envs\\pytorch\\lib\\site-packages\\dgl\\backend\\pytorch\\tensor.py:445: UserWarning: TypedStorage is deprecated. It will be removed in the future and UntypedStorage will be the only storage class. This should only matter to you if you are using storages directly.  To access UntypedStorage directly, use tensor.untyped_storage() instead of tensor.storage()\n",
      "  assert input.numel() == input.storage().size(), (\n"
     ]
    },
    {
     "name": "stdout",
     "output_type": "stream",
     "text": [
      "In epoch 0, loss: 0.8097347021102905\n",
      "In epoch 5, loss: 0.6619991064071655\n",
      "In epoch 10, loss: 0.5563797354698181\n",
      "In epoch 15, loss: 0.47535955905914307\n",
      "In epoch 20, loss: 0.41270139813423157\n",
      "In epoch 25, loss: 0.3610784709453583\n",
      "In epoch 30, loss: 0.3193345367908478\n",
      "In epoch 35, loss: 0.28156977891921997\n",
      "In epoch 40, loss: 0.2518762946128845\n",
      "In epoch 45, loss: 0.2256263792514801\n",
      "In epoch 50, loss: 0.20321260392665863\n",
      "In epoch 55, loss: 0.18543002009391785\n",
      "In epoch 60, loss: 0.1700575351715088\n",
      "In epoch 65, loss: 0.15672242641448975\n",
      "In epoch 70, loss: 0.14524030685424805\n",
      "In epoch 75, loss: 0.13516612350940704\n",
      "In epoch 80, loss: 0.126120463013649\n",
      "In epoch 85, loss: 0.11809560656547546\n",
      "In epoch 90, loss: 0.11104323714971542\n",
      "In epoch 95, loss: 0.10490470379590988\n"
     ]
    }
   ],
   "source": [
    "#training\n",
    "all_logits = []\n",
    "for e in range(100):\n",
    "    # forward\n",
    "    logits = net(g, inputs)\n",
    "    \n",
    "    # compute loss\n",
    "    logp = F.log_softmax(logits, 1)\n",
    "    loss = F.nll_loss(logp[labeled_nodes], labels[labeled_nodes])\n",
    "    \n",
    "    # backward\n",
    "    optimizer.zero_grad()\n",
    "    loss.backward()\n",
    "    optimizer.step()\n",
    "    all_logits.append(logits.detach())\n",
    "    \n",
    "    if e % 5 == 0:\n",
    "        print('In epoch {}, loss: {}'.format(e, loss))"
   ]
  },
  {
   "cell_type": "code",
   "execution_count": 60,
   "id": "ccdf121f",
   "metadata": {},
   "outputs": [
    {
     "name": "stdout",
     "output_type": "stream",
     "text": [
      "Accuracy 0.6470588235294118\n"
     ]
    }
   ],
   "source": [
    "#check results\n",
    "pred = torch.argmax(logits, axis=1)\n",
    "print('Accuracy', (pred == labels).sum().item() / len(pred))"
   ]
  },
  {
   "attachments": {},
   "cell_type": "markdown",
   "id": "e146c7e3",
   "metadata": {},
   "source": [
    "### 3.3可视化结果"
   ]
  },
  {
   "cell_type": "code",
   "execution_count": 87,
   "id": "272382d5",
   "metadata": {},
   "outputs": [
    {
     "data": {
      "image/png": "[encoded data removed]",
      "text/plain": [
       "<Figure size 400x300 with 1 Axes>"
      ]
     },
     "metadata": {},
     "output_type": "display_data"
    }
   ],
   "source": [
    "import networkx as nx\n",
    "import matplotlib.pyplot as plt\n",
    "\n",
    "nx_G = g.to_networkx()  #先把图转成network的格式\n",
    "color_map = {0: '#FFB6C1', 1: '#228B22'} # Change these colors as desired\n",
    "node_colors = [color_map[int(label)] for label in labels]\n",
    "pos = nx.spring_layout(nx_G)\n",
    "\n",
    "nx.draw(nx_G.to_undirected(), pos, with_labels=True, node_size=200, node_color=node_colors)  #把图转化成无向图\n",
    "plt.show()\n"
   ]
  },
  {
   "attachments": {},
   "cell_type": "markdown",
   "id": "23e42a8e",
   "metadata": {},
   "source": [
    "## 4.边预测GNN"
   ]
  },
  {
   "cell_type": "code",
   "execution_count": 88,
   "id": "03f44ab7",
   "metadata": {},
   "outputs": [],
   "source": [
    "#导入包\n",
    "import dgl\n",
    "import torch\n",
    "import torch.nn as nn\n",
    "import torch.nn.functional as F\n",
    "import itertools\n",
    "import numpy as np\n",
    "import scipy.sparse as sp"
   ]
  },
  {
   "cell_type": "code",
   "execution_count": 18,
   "id": "4884d4b6",
   "metadata": {},
   "outputs": [
    {
     "data": {
      "text/plain": [
       "Graph(num_nodes=34, num_edges=156,\n",
       "      ndata_schemes={'club': Scheme(shape=(), dtype=torch.int64), 'club_onehot': Scheme(shape=(2,), dtype=torch.int64)}\n",
       "      edata_schemes={'weight': Scheme(shape=(), dtype=torch.float64)})"
      ]
     },
     "execution_count": 18,
     "metadata": {},
     "output_type": "execute_result"
    }
   ],
   "source": [
    "g"
   ]
  },
  {
   "cell_type": "code",
   "execution_count": 16,
   "id": "6b53e0a9",
   "metadata": {},
   "outputs": [
    {
     "data": {
      "text/plain": [
       "Parameter containing:\n",
       "tensor([[-0.2751, -0.3677, -0.0762, -0.3918, -0.0757],\n",
       "        [-0.3230,  0.2058, -0.2826,  0.1728, -0.0031],\n",
       "        [ 0.1256, -0.2076, -0.3496,  0.2333, -0.2130],\n",
       "        [-0.0654, -0.0356,  0.3567, -0.1804,  0.2746],\n",
       "        [-0.3021, -0.1642,  0.1115,  0.0403,  0.0955],\n",
       "        [ 0.1200, -0.1472,  0.0123,  0.1603,  0.1684],\n",
       "        [ 0.0901, -0.1334,  0.2803,  0.1413,  0.2903],\n",
       "        [ 0.2819, -0.1118,  0.1986,  0.3592,  0.1793],\n",
       "        [-0.1672,  0.0976,  0.3233, -0.0020, -0.1241],\n",
       "        [-0.0913, -0.2779, -0.0029,  0.0709,  0.0971],\n",
       "        [ 0.2479, -0.2981,  0.0556, -0.2549, -0.2907],\n",
       "        [-0.3110, -0.1143,  0.2289, -0.2949, -0.3727],\n",
       "        [ 0.1897,  0.1276,  0.0145,  0.1155, -0.0185],\n",
       "        [ 0.0740, -0.2441, -0.1309, -0.2620,  0.3447],\n",
       "        [ 0.2778,  0.1056, -0.1490,  0.0524, -0.3593],\n",
       "        [ 0.3637, -0.1498,  0.2083,  0.2192,  0.0209],\n",
       "        [ 0.3213,  0.3811,  0.0106, -0.2907,  0.1132],\n",
       "        [-0.3111, -0.2698,  0.2997, -0.1631, -0.3762],\n",
       "        [ 0.3066,  0.0472,  0.2080, -0.1029, -0.2974],\n",
       "        [-0.0848,  0.1693, -0.2208, -0.0803, -0.1683],\n",
       "        [ 0.2027, -0.1595, -0.2159, -0.0325,  0.2898],\n",
       "        [-0.1342, -0.1744, -0.2334, -0.3180, -0.0289],\n",
       "        [-0.0743,  0.3771, -0.0564,  0.3531, -0.2017],\n",
       "        [-0.2963, -0.0992,  0.1007, -0.1288, -0.0889],\n",
       "        [-0.1775, -0.3011,  0.0946, -0.3329,  0.1064],\n",
       "        [-0.1814, -0.2206,  0.3214, -0.1094,  0.1991],\n",
       "        [ 0.1550,  0.2699,  0.2011,  0.0382, -0.0986],\n",
       "        [-0.2350, -0.2996, -0.0005, -0.0642,  0.2806],\n",
       "        [ 0.3348, -0.0051, -0.1270, -0.0097,  0.0722],\n",
       "        [ 0.1130, -0.2277,  0.0987, -0.2458,  0.2188],\n",
       "        [-0.2694,  0.0087,  0.1109, -0.1226,  0.0066],\n",
       "        [-0.3115,  0.2194,  0.2598,  0.1386, -0.0387],\n",
       "        [ 0.1863,  0.0550,  0.0255, -0.1887, -0.1725],\n",
       "        [-0.2656, -0.1427, -0.0064, -0.2457,  0.1345]], requires_grad=True)"
      ]
     },
     "execution_count": 16,
     "metadata": {},
     "output_type": "execute_result"
    }
   ],
   "source": [
    "#上传图并且进行图嵌入\n",
    "node_embed = nn.Embedding(g.number_of_nodes(), 5)  # Every node has an embedding of size 5.\n",
    "inputs = node_embed.weight                         # Use the embedding weight as the node features.\n",
    "nn.init.xavier_uniform_(inputs)"
   ]
  },
  {
   "attachments": {},
   "cell_type": "markdown",
   "id": "a9260b3b",
   "metadata": {},
   "source": [
    "### 4.1构建训练集和测试集"
   ]
  },
  {
   "cell_type": "code",
   "execution_count": 17,
   "id": "95e76876",
   "metadata": {},
   "outputs": [
    {
     "data": {
      "text/plain": [
       "156"
      ]
     },
     "execution_count": 17,
     "metadata": {},
     "output_type": "execute_result"
    }
   ],
   "source": [
    "g.number_of_edges()"
   ]
  },
  {
   "cell_type": "code",
   "execution_count": 19,
   "id": "836a8541",
   "metadata": {},
   "outputs": [],
   "source": [
    "# Split edge set for training and testing\n",
    "u, v = g.edges()\n",
    "eids = np.arange(g.number_of_edges())\n",
    "eids = np.random.permutation(eids)\n",
    "test_pos_u, test_pos_v = u[eids[:50]], v[eids[:50]]\n",
    "train_pos_u, train_pos_v = u[eids[50:]], v[eids[50:]]"
   ]
  },
  {
   "cell_type": "code",
   "execution_count": 21,
   "id": "9b75f9fc",
   "metadata": {},
   "outputs": [],
   "source": [
    "import scipy.sparse as sp\n",
    "# Find all negative edges and split them for training and testing\n",
    "adj = sp.coo_matrix((np.ones(len(u)), (u.numpy(), v.numpy())))     #构建邻接矩阵\n",
    "adj_neg = 1 - adj.todense() - np.eye(34)\n",
    "neg_u, neg_v = np.where(adj_neg != 0)\n",
    "neg_eids = np.random.choice(len(neg_u), 200)\n",
    "test_neg_u, test_neg_v = neg_u[neg_eids[:50]], neg_v[neg_eids[:50]]\n",
    "train_neg_u, train_neg_v = neg_u[neg_eids[50:]], neg_v[neg_eids[50:]]"
   ]
  },
  {
   "cell_type": "code",
   "execution_count": 23,
   "id": "028147e6",
   "metadata": {},
   "outputs": [],
   "source": [
    "# Create training set.\n",
    "train_u = torch.cat([torch.as_tensor(train_pos_u), torch.as_tensor(train_neg_u)])\n",
    "train_v = torch.cat([torch.as_tensor(train_pos_v), torch.as_tensor(train_neg_v)])\n",
    "train_label = torch.cat([torch.zeros(len(train_pos_u)), torch.ones(len(train_neg_u))])\n",
    "\n",
    "# Create testing set.\n",
    "test_u = torch.cat([torch.as_tensor(test_pos_u), torch.as_tensor(test_neg_u)])\n",
    "test_v = torch.cat([torch.as_tensor(test_pos_v), torch.as_tensor(test_neg_v)])\n",
    "test_label = torch.cat([torch.zeros(len(test_pos_u)), torch.ones(len(test_neg_u))])"
   ]
  },
  {
   "attachments": {},
   "cell_type": "markdown",
   "id": "af362fb5",
   "metadata": {},
   "source": [
    "### 4.2定义GraphSAGE model"
   ]
  },
  {
   "cell_type": "code",
   "execution_count": 30,
   "id": "f1593e0a",
   "metadata": {},
   "outputs": [],
   "source": [
    "from dgl.nn import SAGEConv\n",
    "\n",
    "# ----------- 2. create model -------------- #\n",
    "# build a two-layer GraphSAGE model\n",
    "class GraphSAGE(nn.Module):\n",
    "    def __init__(self, in_feats, h_feats):\n",
    "        super(GraphSAGE, self).__init__()\n",
    "        self.conv1 = SAGEConv(in_feats, h_feats, 'mean')\n",
    "        self.conv2 = SAGEConv(h_feats, h_feats, 'mean')\n",
    "    \n",
    "    def forward(self, g, in_feat):\n",
    "        h = self.conv1(g, in_feat)\n",
    "        h = F.relu(h)\n",
    "        h = self.conv2(g, h)\n",
    "        return h\n",
    "    \n",
    "# Create the model with given dimensions \n",
    "# input layer dimension: 5, node embeddings\n",
    "# hidden layer dimension: 16\n",
    "net = GraphSAGE(5, 16)"
   ]
  },
  {
   "cell_type": "code",
   "execution_count": 31,
   "id": "52522240",
   "metadata": {},
   "outputs": [
    {
     "name": "stderr",
     "output_type": "stream",
     "text": [
      "d:\\anaconda3\\envs\\pytorch\\lib\\site-packages\\dgl\\backend\\pytorch\\tensor.py:445: UserWarning: TypedStorage is deprecated. It will be removed in the future and UntypedStorage will be the only storage class. This should only matter to you if you are using storages directly.  To access UntypedStorage directly, use tensor.untyped_storage() instead of tensor.storage()\n",
      "  assert input.numel() == input.storage().size(), (\n"
     ]
    },
    {
     "name": "stdout",
     "output_type": "stream",
     "text": [
      "In epoch 0, loss: 0.7305668592453003\n",
      "In epoch 5, loss: 0.6323819756507874\n",
      "In epoch 10, loss: 0.5396523475646973\n",
      "In epoch 15, loss: 0.4425849914550781\n",
      "In epoch 20, loss: 0.38629835844039917\n",
      "In epoch 25, loss: 0.33923614025115967\n",
      "In epoch 30, loss: 0.3004753589630127\n",
      "In epoch 35, loss: 0.270256370306015\n",
      "In epoch 40, loss: 0.23789355158805847\n",
      "In epoch 45, loss: 0.19807720184326172\n",
      "In epoch 50, loss: 0.15964919328689575\n",
      "In epoch 55, loss: 0.11855847388505936\n",
      "In epoch 60, loss: 0.08480344712734222\n",
      "In epoch 65, loss: 0.059243153780698776\n",
      "In epoch 70, loss: 0.03932385891675949\n",
      "In epoch 75, loss: 0.025338852778077126\n",
      "In epoch 80, loss: 0.01695336401462555\n",
      "In epoch 85, loss: 0.011062148958444595\n",
      "In epoch 90, loss: 0.00669007608667016\n",
      "In epoch 95, loss: 0.0035549893509596586\n"
     ]
    }
   ],
   "source": [
    "# ----------- 3. set up loss and optimizer -------------- #\n",
    "# in this case, loss will in training loop\n",
    "optimizer = torch.optim.Adam(itertools.chain(net.parameters(), node_embed.parameters()), lr=0.01)\n",
    "\n",
    "# ----------- 4. training -------------------------------- #\n",
    "all_logits = []\n",
    "for e in range(100):\n",
    "    # forward\n",
    "    logits = net(g, inputs)\n",
    "    pred = torch.sigmoid((logits[train_u] * logits[train_v]).sum(dim=1))\n",
    "    \n",
    "    # compute loss\n",
    "    loss = F.binary_cross_entropy(pred, train_label)\n",
    "    \n",
    "    # backward\n",
    "    optimizer.zero_grad()\n",
    "    loss.backward()\n",
    "    optimizer.step()\n",
    "    all_logits.append(logits.detach())\n",
    "    \n",
    "    if e % 5 == 0:\n",
    "        print('In epoch {}, loss: {}'.format(e, loss))"
   ]
  },
  {
   "cell_type": "code",
   "execution_count": 32,
   "id": "5488b3c3",
   "metadata": {},
   "outputs": [
    {
     "name": "stdout",
     "output_type": "stream",
     "text": [
      "Accuracy 0.92\n"
     ]
    }
   ],
   "source": [
    "# ----------- 5. check results ------------------------ #\n",
    "pred = torch.sigmoid((logits[test_u] * logits[test_v]).sum(dim=1))\n",
    "print('Accuracy', ((pred >= 0.5) == test_label).sum().item() / len(pred))"
   ]
  }
 ],
 "metadata": {
  "kernelspec": {
   "display_name": "pytorch",
   "language": "python",
   "name": "python3"
  },
  "language_info": {
   "codemirror_mode": {
    "name": "ipython",
    "version": 3
   },
   "file_extension": ".py",
   "mimetype": "text/x-python",
   "name": "python",
   "nbconvert_exporter": "python",
   "pygments_lexer": "ipython3",
   "version": "3.10.9"
  }
 },
 "nbformat": 4,
 "nbformat_minor": 5
}
