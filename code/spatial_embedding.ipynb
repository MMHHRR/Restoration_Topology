{
 "cells": [
  {
   "cell_type": "code",
   "execution_count": 1,
   "metadata": {},
   "outputs": [
    {
     "name": "stderr",
     "output_type": "stream",
     "text": [
      "d:\\anaconda3\\envs\\pytorch\\lib\\site-packages\\tqdm\\auto.py:22: TqdmWarning: IProgress not found. Please update jupyter and ipywidgets. See https://ipywidgets.readthedocs.io/en/stable/user_install.html\n",
      "  from .autonotebook import tqdm as notebook_tqdm\n",
      "d:\\anaconda3\\envs\\pytorch\\lib\\site-packages\\transformers\\models\\segformer\\feature_extraction_segformer.py:28: FutureWarning: The class SegformerFeatureExtractor is deprecated and will be removed in version 5 of Transformers. Please use SegformerImageProcessor instead.\n",
      "  warnings.warn(\n",
      "d:\\anaconda3\\envs\\pytorch\\lib\\site-packages\\transformers\\models\\segformer\\image_processing_segformer.py:99: FutureWarning: The `reduce_labels` parameter is deprecated and will be removed in a future version. Please use `do_reduce_labels` instead.\n",
      "  warnings.warn(\n",
      "  0%|          | 0/3 [00:00<?, ?it/s]"
     ]
    },
    {
     "name": "stdout",
     "output_type": "stream",
     "text": [
      "tensor([nan, nan, nan, nan, nan], grad_fn=<AddBackward0>)\n"
     ]
    },
    {
     "name": "stderr",
     "output_type": "stream",
     "text": [
      " 67%|██████▋   | 2/3 [00:04<00:02,  2.38s/it]"
     ]
    },
    {
     "name": "stdout",
     "output_type": "stream",
     "text": [
      "tensor([ 0.1760, -0.2687, -0.1686, -0.2684, -0.2596], grad_fn=<AddBackward0>)\n"
     ]
    },
    {
     "name": "stderr",
     "output_type": "stream",
     "text": [
      "100%|██████████| 3/3 [00:06<00:00,  2.09s/it]"
     ]
    },
    {
     "name": "stdout",
     "output_type": "stream",
     "text": [
      "tensor([-0.1501,  0.1295, -0.1963, -0.0760,  0.0125], grad_fn=<AddBackward0>)\n"
     ]
    },
    {
     "name": "stderr",
     "output_type": "stream",
     "text": [
      "\n"
     ]
    }
   ],
   "source": [
    "import os\n",
    "import csv\n",
    "from tqdm import tqdm\n",
    "import pandas as pd\n",
    "import networkx as nx\n",
    "import numpy as np\n",
    "from PIL import Image\n",
    "import matplotlib.pyplot as plt\n",
    "\n",
    "import torch\n",
    "import torch.nn as nn\n",
    "import torch.nn.functional as F\n",
    "import torchvision.transforms as transforms\n",
    "from transformers import SegformerFeatureExtractor, SegformerForSemanticSegmentation\n",
    "from torch_geometric.data import Data\n",
    "from torch_geometric.utils import to_networkx\n",
    "from torch_geometric.utils import from_networkx\n",
    "from torch_geometric.nn import GCNConv\n",
    "\n",
    "# # 加载模型\n",
    "feature_extractor = SegformerFeatureExtractor.from_pretrained(\"nvidia/segformer-b0-finetuned-ade-512-512\")\n",
    "model = SegformerForSemanticSegmentation.from_pretrained(\"nvidia/segformer-b0-finetuned-ade-512-512\").cuda()\n",
    "model.eval()\n",
    "\n",
    "# Get list of class names as column names\n",
    "class_names = list(model.config.id2label.values())[1:]\n",
    "\n",
    "def get_mask(image):\n",
    "    inputs = feature_extractor(image, return_tensors=\"pt\").to(model.device)\n",
    "    # 对输入图片进行分割\n",
    "    with torch.no_grad():    \n",
    "        outputs = model(**inputs)\n",
    "        logits = outputs.logits  # shape (batch_size, num_labels, height/4, width/4)\n",
    "        predictions = torch.argmax(logits, dim=1).cpu().numpy().squeeze().astype('uint8')  # shape (batch_size, height/4, width/4)\n",
    "       \n",
    "    return predictions\n",
    "\n",
    "def combine_graphs(all_predictions):\n",
    "    G = nx.Graph()  # 创建空的大图\n",
    "    all_nodes = []  # 创建空列表用于存储所有节点\n",
    "\n",
    "    for predictions in all_predictions:\n",
    "        mask = predictions\n",
    "        labels = list(np.unique(predictions))\n",
    "\n",
    "        # 创建空的小图\n",
    "        current_graph = nx.Graph()\n",
    "\n",
    "        # 添加节点到小图\n",
    "        for label in labels:\n",
    "            nodes = np.argwhere(mask == label)\n",
    "            centroid = np.mean(nodes, axis=0)\n",
    "            count = len(nodes)\n",
    "            total_count = mask.size\n",
    "            proportion = count / total_count * 100\n",
    "            current_graph.add_node(\n",
    "                label,\n",
    "                centroid=centroid,\n",
    "                label=class_names[label - 1],\n",
    "                proportion=proportion,\n",
    "            )\n",
    "\n",
    "        all_nodes.extend(current_graph.nodes)  # 将节点添加到all_nodes列表中\n",
    "\n",
    "        # 添加边到小图\n",
    "        for i, (label_i, data_i) in enumerate(current_graph.nodes(data=True)):\n",
    "            for j, (label_j, data_j) in enumerate(current_graph.nodes(data=True)):\n",
    "                if i >= j:\n",
    "                    continue\n",
    "                dist = np.linalg.norm(data_i[\"centroid\"] - data_j[\"centroid\"])\n",
    "                if dist < 42:\n",
    "                    current_graph.add_edge(label_i, label_j)\n",
    "                    \n",
    "        # 将小图中的节点和边合并到大图中\n",
    "        G.add_edges_from(current_graph.edges)\n",
    "\n",
    "    G.add_nodes_from(all_nodes)  # 添加所有节点到大图\n",
    "\n",
    "    return G\n",
    "\n",
    "def get_embedding(G):\n",
    "    # 获取节点数量\n",
    "    num_nodes = G.number_of_nodes()\n",
    "\n",
    "    # 定义嵌入层将特征从 1 维映射到 5 维\n",
    "    in_channels = 5  # 输入特征维度\n",
    "    hidden_channels = 16  # 隐层特征维度\n",
    "    out_channels = 5  # 输出特征维度\n",
    "\n",
    "    edge_index = from_networkx(G).edge_index\n",
    "\n",
    "    data = Data(edge_index=edge_index, num_nodes=num_nodes)\n",
    "\n",
    "    # 定义 GCN 模型\n",
    "    class GCN(torch.nn.Module):\n",
    "        def __init__(self, in_channels, hidden_channels, out_channels):\n",
    "            super(GCN, self).__init__()\n",
    "            self.conv1 = GCNConv(in_channels, hidden_channels)\n",
    "            self.conv2 = GCNConv(hidden_channels, out_channels)\n",
    "\n",
    "        def forward(self, edge_index):\n",
    "            x = torch.randn(num_nodes, in_channels)  # 随机初始化节点特征\n",
    "            x = F.relu(self.conv1(x, edge_index))\n",
    "            x = self.conv2(x, edge_index)\n",
    "            x = F.dropout(x, training=self.training)\n",
    "            x = torch.mean(x, dim=0)  # 将所有节点的特征求平均得到图的嵌入向量\n",
    "            x = torch.nn.Linear(x.shape[0], out_channels)(x)  # 将嵌入向量映射为输出特征维度\n",
    "            return x\n",
    "\n",
    "    # 初始化 GCN 模型并传入数据进行计算\n",
    "    model = GCN(in_channels, hidden_channels, out_channels)\n",
    "    embedding = model(data.edge_index)\n",
    "\n",
    "    return embedding\n",
    "\n",
    "\n",
    "data = pd.read_csv(\"E:/Dataset/GNN_Perception/wuhan_badu_SVI/name.csv\")\n",
    "df = pd.DataFrame(data)\n",
    "\n",
    "folder_path = \"E:/Dataset/GNN_Perception/wuhan_badu_SVI/baidu2023_pinjie\"\n",
    "\n",
    "for i in tqdm(range(3)):\n",
    "    result = df[df['road_id'] == i]\n",
    "\n",
    "    predict_set = []\n",
    "\n",
    "    for idx in result.index:\n",
    "        resultssss = result.at[idx, 'Name3']\n",
    "\n",
    "        for filename in os.listdir(folder_path):\n",
    "            file_id = filename.split('_')[2]\n",
    "          \n",
    "            if file_id in resultssss:\n",
    "                image = Image.open(os.path.join(folder_path, filename))\n",
    "\n",
    "                predict_set.append(get_mask(image))\n",
    "\n",
    "    G = combine_graphs(predict_set)\n",
    "    embedding = get_embedding(G)\n",
    "\n",
    "    print(embedding)"
   ]
  },
  {
   "cell_type": "markdown",
   "metadata": {},
   "source": [
    "### Data sample"
   ]
  },
  {
   "cell_type": "markdown",
   "metadata": {},
   "source": [
    "![Alt text](image.png)![Alt text](image-1.png)"
   ]
  }
 ],
 "metadata": {
  "kernelspec": {
   "display_name": "pytorch",
   "language": "python",
   "name": "python3"
  },
  "language_info": {
   "codemirror_mode": {
    "name": "ipython",
    "version": 3
   },
   "file_extension": ".py",
   "mimetype": "text/x-python",
   "name": "python",
   "nbconvert_exporter": "python",
   "pygments_lexer": "ipython3",
   "version": "3.10.9"
  },
  "orig_nbformat": 4
 },
 "nbformat": 4,
 "nbformat_minor": 2
}
